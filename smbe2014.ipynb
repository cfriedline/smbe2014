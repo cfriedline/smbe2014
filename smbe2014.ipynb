{
 "metadata": {
  "name": "",
  "signature": "sha256:c2b923d3c7708e44502fd38f91e80b35916eeb9e9a062430785b208cfda4a472"
 },
 "nbformat": 3,
 "nbformat_minor": 0,
 "worksheets": [
  {
   "cells": [
    {
     "cell_type": "code",
     "collapsed": false,
     "input": [
      "import os, sys, gzip\n",
      "import numpy as np\n",
      "import scipy as sp\n",
      "import pandas as pd\n",
      "import matplotlib.pyplot as plt\n",
      "from scipy import stats\n",
      "%matplotlib inline\n",
      "from IPython.parallel import Client\n",
      "import brewer2mpl as brew\n",
      "from IPython.display import FileLinks, FileLink"
     ],
     "language": "python",
     "metadata": {},
     "outputs": [],
     "prompt_number": ""
    },
    {
     "cell_type": "code",
     "collapsed": false,
     "input": [
      "root = \"/data7/cfriedline/projects/simruns/\""
     ],
     "language": "python",
     "metadata": {},
     "outputs": [],
     "prompt_number": ""
    },
    {
     "cell_type": "code",
     "collapsed": false,
     "input": [
      "cd $root"
     ],
     "language": "python",
     "metadata": {},
     "outputs": [],
     "prompt_number": ""
    },
    {
     "cell_type": "code",
     "collapsed": false,
     "input": [
      "result_dirs = !find $root -maxdepth 2 | grep results\n",
      "result_dirs = sorted([os.path.abspath(x) for x in result_dirs])"
     ],
     "language": "python",
     "metadata": {},
     "outputs": [],
     "prompt_number": ""
    },
    {
     "cell_type": "code",
     "collapsed": false,
     "input": [
      "outfiles = []\n",
      "for d in result_dirs:\n",
      "    for sub in os.listdir(d):\n",
      "        out = os.path.join(os.path.join(d, sub), \"out\")\n",
      "        outfile = os.path.join(out, \"out.txt\")\n",
      "        if os.path.exists(outfile):\n",
      "            outfiles.append(outfile)\n",
      "        elif os.path.exists(outfile + \".gz\"):\n",
      "            outfiles.append(outfile + \".gz\")\n",
      "outfiles = sorted(outfiles)"
     ],
     "language": "python",
     "metadata": {},
     "outputs": [],
     "prompt_number": ""
    },
    {
     "cell_type": "code",
     "collapsed": false,
     "input": [
      "def create_pkey(series):\n",
      "    return \"%s-%s-%s\" % (series['source'], series['cols'], series['tree_num'])\n",
      "    \n",
      "frames = {}\n",
      "for o in outfiles:\n",
      "    h = open(o)\n",
      "    if o.endswith(\"gz\"):\n",
      "        h.close()\n",
      "        h = gzip.open(o)\n",
      "    d = pd.read_csv(h, sep=\"\\t\", header=0)\n",
      "    if 'tree_num' in d and len(d.tree_num) == 10395: #only keep experiments with 10395 trees\n",
      "        d['source'] = o\n",
      "        d['results'] = os.path.dirname(os.path.dirname(os.path.dirname(o)))\n",
      "        d['pkey'] = d.apply(create_pkey, axis=1)\n",
      "        d.index = d.pkey\n",
      "        frames[o] = d\n",
      "    "
     ],
     "language": "python",
     "metadata": {},
     "outputs": [],
     "prompt_number": ""
    },
    {
     "cell_type": "code",
     "collapsed": false,
     "input": [
      "data = pd.concat(frames.values())"
     ],
     "language": "python",
     "metadata": {},
     "outputs": [],
     "prompt_number": ""
    },
    {
     "cell_type": "code",
     "collapsed": false,
     "input": [
      "cd /home/cfriedline/ipynb/smbe2014"
     ],
     "language": "python",
     "metadata": {},
     "outputs": [],
     "prompt_number": ""
    },
    {
     "cell_type": "code",
     "collapsed": false,
     "input": [
      "title_dict = {'bsim4': 'Equal branch lengths at 0.5',\n",
      "              'bsim5': 'Random branch lengths on U(0.1,1.0)',\n",
      "              'brate': 'Varying rate on equal branch lengths of 0.5',\n",
      "              'rbrate': 'Varying rate on random branch lengths on U(0.1, 1.0)'}\n",
      "colnums = [1000,3000,6000,9000]\n",
      "cols = sorted([x for x in d.columns if 'symm' in x])\n",
      "colormap = plt.cm.rainbow\n",
      "for colnum in colnums:\n",
      "    for k, v in title_dict.items():\n",
      "        pdf = \"%s_%d.pdf\" % (k, colnum)\n",
      "        if k == 'bsim4' or k == 'bsim5':\n",
      "            d = data[(data.source.str.contains(k)) & (data.cols == colnum)]        \n",
      "            d_sub = d[cols]\n",
      "            means = np.mean(d_sub).order()\n",
      "            errors = np.std(d_sub)\n",
      "            colors = [colormap(i) for i in np.linspace(0, 0.9, len(cols))]\n",
      "            plt.figure(figsize=(10,10))\n",
      "            bars = plt.bar(np.arange(len(cols)),\n",
      "                    means, \n",
      "                    color=colors,\n",
      "                    yerr=errors.reindex(means.index))\n",
      "            legend = plt.legend(bars, means.index.tolist(), fancybox=True, shadow=True)\n",
      "            legend.get_frame().set_alpha(1)\n",
      "            plt.title(\"%s (%d OTUs)\" % (title_dict[k], colnum))\n",
      "            plt.ylabel(\"Symmetric distance\")\n",
      "            plt.ylim(0)\n",
      "            plt.gca().axes.get_xaxis().set_visible(False)\n",
      "            plt.savefig(pdf, bbox_inches='tight')\n",
      "            plt.show()\n",
      "        elif 'brate' in k and 'rbrate' not in k:\n",
      "            if colnum == 3000:\n",
      "                ax = plt.subplot(121)\n",
      "                f = ax.get_figure()\n",
      "                f.set_size_inches((20,10))\n",
      "                d = data[(data.source.str.contains('/%s' % k)) & (data.cols == colnum)]\n",
      "                d['rate'] = d.pkey.apply(lambda x: float(x.split(\"/\")[5].split(\"_\")[1]))\n",
      "                means = np.mean(d[cols]).order()\n",
      "                g = d.groupby('rate')\n",
      "                g = g[means.index]\n",
      "                agg = g.agg(np.mean)\n",
      "                colors=[colormap(i) for i in np.linspace(0, 0.9, len(agg.columns))]\n",
      "                gca = plt.gca().set_color_cycle(colors)\n",
      "                ax.plot(agg.index, \n",
      "                        agg, \n",
      "                        linewidth=2)        \n",
      "                ax.legend(agg.columns, bbox_to_anchor=(1.01, 1), fancybox=True, shadow=True)\n",
      "                ax.set_title(title_dict[k])\n",
      "                ax.set_xlim(0.1, 0.9)\n",
      "                ax.set_xlabel(\"Rate\")\n",
      "                ax.set_ylabel(\"Symmetric distance\")\n",
      "                f.savefig(pdf, bbox_inches=\"tight\")\n",
      "        elif \"rbrate\" in k:\n",
      "            if colnum == 3000:\n",
      "                ax = plt.subplot(121)\n",
      "                f = ax.get_figure()\n",
      "                f.set_size_inches((20,10))\n",
      "                d = data[(data.source.str.contains('/%s' % k)) & (data.cols == colnum)]\n",
      "                d['rate'] = d.pkey.apply(lambda x: float(x.split(\"/\")[5].split(\"_\")[1]))\n",
      "                means = np.mean(d[cols]).order()\n",
      "                g = d.groupby('rate')\n",
      "                g = g[means.index]\n",
      "                agg = g.agg(np.mean)\n",
      "                colors=[colormap(i) for i in np.linspace(0, 0.9, len(agg.columns))]\n",
      "                gca = plt.gca().set_color_cycle(colors)\n",
      "                ax.plot(agg.index, \n",
      "                        agg, \n",
      "                        linewidth=2)        \n",
      "                ax.legend(agg.columns, bbox_to_anchor=(1.01, 1), fancybox=True, shadow=True)\n",
      "                ax.set_title(title_dict[k])\n",
      "                ax.set_xlim(0.1, 0.9)\n",
      "                ax.set_xlabel(\"Rate\")\n",
      "                ax.set_ylabel(\"Symmetric distance\")\n",
      "                f.savefig(pdf)\n",
      "            \n",
      "            \n",
      "        "
     ],
     "language": "python",
     "metadata": {},
     "outputs": [],
     "prompt_number": ""
    },
    {
     "cell_type": "code",
     "collapsed": false,
     "input": [
      "FileLinks('.')"
     ],
     "language": "python",
     "metadata": {},
     "outputs": [],
     "prompt_number": ""
    }
   ],
   "metadata": {}
  }
 ]
}