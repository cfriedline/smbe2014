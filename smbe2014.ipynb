{
 "metadata": {
  "name": "",
  "signature": "sha256:25ec367a23c7b25ef989920c8046e57fb7b3a33ddbba63d428ad90424e14cc51"
 },
 "nbformat": 3,
 "nbformat_minor": 0,
 "worksheets": [
  {
   "cells": [
    {
     "cell_type": "code",
     "collapsed": false,
     "input": [
      "import os, sys, gzip\n",
      "import numpy as np\n",
      "import scipy as sp\n",
      "import pandas as pd\n",
      "import matplotlib.pyplot as plt\n",
      "from scipy import stats\n",
      "from IPython.parallel import Client\n",
      "import brewer2mpl as brew\n",
      "from IPython.display import FileLinks, FileLink\n",
      "sys.path.append(\"/home/cfriedline/data7/src\")\n",
      "os.environ['R_HOME'] = '/home/cfriedline/lib64/R'\n",
      "import bayesiansimulation.app as app\n",
      "import bayesiansimulation.runsimulation4 as sim\n",
      "import pandas.rpy.common as com\n",
      "import rpy2.robjects as robjects\n",
      "from multiprocessing import Pool\n",
      "import time\n",
      "import dendropy\n",
      "%load_ext rmagic\n",
      "%load_ext autoreload\n",
      "%matplotlib inline"
     ],
     "language": "python",
     "metadata": {},
     "outputs": [],
     "prompt_number": ""
    },
    {
     "cell_type": "code",
     "collapsed": false,
     "input": [
      "root = \"/data7/cfriedline/projects/simruns/\""
     ],
     "language": "python",
     "metadata": {},
     "outputs": [],
     "prompt_number": ""
    },
    {
     "cell_type": "code",
     "collapsed": false,
     "input": [
      "cd $root"
     ],
     "language": "python",
     "metadata": {},
     "outputs": [],
     "prompt_number": ""
    },
    {
     "cell_type": "code",
     "collapsed": false,
     "input": [
      "result_dirs = !find $root -maxdepth 2 | grep results\n",
      "result_dirs = sorted([os.path.abspath(x) for x in result_dirs])"
     ],
     "language": "python",
     "metadata": {},
     "outputs": [],
     "prompt_number": ""
    },
    {
     "cell_type": "code",
     "collapsed": false,
     "input": [
      "outfiles = []\n",
      "for d in result_dirs:\n",
      "    for sub in os.listdir(d):\n",
      "        out = os.path.join(os.path.join(d, sub), \"out\")\n",
      "        outfile = os.path.join(out, \"out.txt\")\n",
      "        if os.path.exists(outfile):\n",
      "            outfiles.append(outfile)\n",
      "        elif os.path.exists(outfile + \".gz\"):\n",
      "            outfiles.append(outfile + \".gz\")\n",
      "outfiles = sorted(outfiles)"
     ],
     "language": "python",
     "metadata": {},
     "outputs": [],
     "prompt_number": ""
    },
    {
     "cell_type": "code",
     "collapsed": false,
     "input": [
      "def create_pkey(series):\n",
      "    return \"%s-%s-%s\" % (series['source'], series['cols'], series['tree_num'])\n",
      "    \n",
      "frames = {}\n",
      "for o in outfiles:\n",
      "    h = open(o)\n",
      "    if o.endswith(\"gz\"):\n",
      "        h.close()\n",
      "        h = gzip.open(o)\n",
      "    d = pd.read_csv(h, sep=\"\\t\", header=0)\n",
      "    if 'tree_num' in d and len(d.tree_num) == 10395: #only keep experiments with 10395 trees\n",
      "        d['source'] = o\n",
      "        d['results'] = os.path.dirname(os.path.dirname(os.path.dirname(o)))\n",
      "        d['pkey'] = d.apply(create_pkey, axis=1)\n",
      "        d.index = d.pkey\n",
      "        frames[o] = d\n",
      "    "
     ],
     "language": "python",
     "metadata": {},
     "outputs": [],
     "prompt_number": ""
    },
    {
     "cell_type": "code",
     "collapsed": false,
     "input": [
      "data = pd.concat(frames.values())"
     ],
     "language": "python",
     "metadata": {},
     "outputs": [],
     "prompt_number": ""
    },
    {
     "cell_type": "code",
     "collapsed": false,
     "input": [
      "cd /home/cfriedline/ipynb/smbe2014"
     ],
     "language": "python",
     "metadata": {},
     "outputs": [],
     "prompt_number": ""
    },
    {
     "cell_type": "code",
     "collapsed": false,
     "input": [
      "title_dict = {'bsim4': 'Equal branch lengths at 0.5',\n",
      "              'bsim5': 'Random branch lengths on U(0.1,1.0)',\n",
      "              'brate': 'Varying rate on equal branch lengths of 0.5',\n",
      "              'rbrate': 'Varying rate on random branch lengths on U(0.1, 1.0)'}\n",
      "colnums = [1000,3000,6000,9000]\n",
      "cols = sorted([x for x in d.columns if 'symm' in x])\n",
      "colormap = plt.cm.rainbow\n",
      "for colnum in colnums:\n",
      "    for k, v in title_dict.items():\n",
      "        pdf = \"%s_%d.pdf\" % (k, colnum)\n",
      "        if k == 'bsim4' or k == 'bsim5':\n",
      "            d = data[(data.source.str.contains(k)) & (data.cols == colnum)]        \n",
      "            d_sub = d[cols]\n",
      "            means = np.mean(d_sub).order()\n",
      "            errors = np.std(d_sub)\n",
      "            colors = [colormap(i) for i in np.linspace(0, 0.9, len(cols))]\n",
      "            plt.figure(figsize=(10,10))\n",
      "            bars = plt.bar(np.arange(len(cols)),\n",
      "                    means, \n",
      "                    color=colors,\n",
      "                    yerr=errors.reindex(means.index))\n",
      "            legend = plt.legend(bars, means.index.tolist(), fancybox=True, shadow=True)\n",
      "            legend.get_frame().set_alpha(1)\n",
      "            plt.title(\"%s (%d OTUs)\" % (title_dict[k], colnum))\n",
      "            plt.ylabel(\"Symmetric distance\")\n",
      "            plt.ylim(0)\n",
      "            plt.gca().axes.get_xaxis().set_visible(False)\n",
      "            plt.savefig(pdf, bbox_inches='tight')\n",
      "            plt.show()\n",
      "        elif 'brate' in k and 'rbrate' not in k:\n",
      "            if colnum == 3000:\n",
      "                ax = plt.subplot(121)\n",
      "                f = ax.get_figure()\n",
      "                f.set_size_inches((20,10))\n",
      "                d = data[(data.source.str.contains('/%s' % k)) & (data.cols == colnum)]\n",
      "                d['rate'] = d.pkey.apply(lambda x: float(x.split(\"/\")[5].split(\"_\")[1]))\n",
      "                means = np.mean(d[cols]).order()\n",
      "                g = d.groupby('rate')\n",
      "                g = g[means.index]\n",
      "                agg = g.agg(np.mean)\n",
      "                colors=[colormap(i) for i in np.linspace(0, 0.9, len(agg.columns))]\n",
      "                gca = plt.gca().set_color_cycle(colors)\n",
      "                ax.plot(agg.index, \n",
      "                        agg, \n",
      "                        linewidth=2)        \n",
      "                ax.legend(agg.columns, bbox_to_anchor=(1.01, 1), fancybox=True, shadow=True)\n",
      "                ax.set_title(title_dict[k])\n",
      "                ax.set_xlim(0.1, 0.9)\n",
      "                ax.set_xlabel(\"Rate\")\n",
      "                ax.set_ylabel(\"Symmetric distance\")\n",
      "                f.savefig(pdf, bbox_inches=\"tight\")\n",
      "        elif \"rbrate\" in k:\n",
      "            if colnum == 3000:\n",
      "                ax = plt.subplot(121)\n",
      "                f = ax.get_figure()\n",
      "                f.set_size_inches((20,10))\n",
      "                d = data[(data.source.str.contains('/%s' % k)) & (data.cols == colnum)]\n",
      "                d['rate'] = d.pkey.apply(lambda x: float(x.split(\"/\")[5].split(\"_\")[1]))\n",
      "                means = np.mean(d[cols]).order()\n",
      "                g = d.groupby('rate')\n",
      "                g = g[means.index]\n",
      "                agg = g.agg(np.mean)\n",
      "                colors=[colormap(i) for i in np.linspace(0, 0.9, len(agg.columns))]\n",
      "                gca = plt.gca().set_color_cycle(colors)\n",
      "                ax.plot(agg.index, \n",
      "                        agg, \n",
      "                        linewidth=2)        \n",
      "                ax.legend(agg.columns, bbox_to_anchor=(1.01, 1), fancybox=True, shadow=True)\n",
      "                ax.set_title(title_dict[k])\n",
      "                ax.set_xlim(0.1, 0.9)\n",
      "                ax.set_xlabel(\"Rate\")\n",
      "                ax.set_ylabel(\"Symmetric distance\")\n",
      "                f.savefig(pdf)\n",
      "            \n",
      "            \n",
      "        "
     ],
     "language": "python",
     "metadata": {},
     "outputs": [],
     "prompt_number": ""
    },
    {
     "cell_type": "code",
     "collapsed": false,
     "input": [
      "FileLinks(\".\", included_suffixes=['.pdf'])"
     ],
     "language": "python",
     "metadata": {},
     "outputs": [],
     "prompt_number": ""
    },
    {
     "cell_type": "markdown",
     "metadata": {},
     "source": [
      "---"
     ]
    },
    {
     "cell_type": "markdown",
     "metadata": {},
     "source": [
      "#Unifrac Simulation"
     ]
    },
    {
     "cell_type": "markdown",
     "metadata": {},
     "source": [
      "##Maria's notebook data"
     ]
    },
    {
     "cell_type": "code",
     "collapsed": false,
     "input": [
      "maria_data = [[0,1,1,0],\n",
      "             [1,0,0,0],\n",
      "             [0,1,0,0],\n",
      "             [0,0,1,0],\n",
      "             [0,0,0,1]]\n",
      "maria_df = pd.DataFrame(maria_data, columns=[\"X\", \"Y\", \"Z\", \"W\"], index=[\"T%d\" % x for x in xrange(1,6)]).T\n",
      "maria_names = np.array(maria_df.index)\n",
      "maria_data = np.array(maria_df)\n",
      "maria_newick = \"((Y:%f,Z:%f):%f,(W:%f,X:%f):%f)\" % (1.0,1.0,1.0,1.0,1.0,1.0)\n",
      "maria_tree = dendropy.Tree.get_from_string(maria_newick, schema=\"newick\")\n",
      "taxa_trees = \"\"\"(((t5,t1),t4),t3,t2);\n",
      "                ((t5,t2),(t4,t1),t3);\n",
      "                ((t5,t3),(t4,t1),t2);\n",
      "                (((t5,t4),t1),t3,t2);\n",
      "                ((t5,(t4,t1)),t3,t2);\n",
      "                ((t5,t1),(t4,t2),t3);\n",
      "                (((t5,t2),t4),t3,t1);\n",
      "                ((t5,t3),(t4,t2),t1);\n",
      "                (((t5,t4),t2),t3,t1);\n",
      "                ((t5,(t4,t2)),t3,t1);\n",
      "                ((t5,t1),(t4,t3),t2);\n",
      "                ((t5,t2),(t4,t3),t1);\n",
      "                (((t5,t3),t4),t2,t1);\n",
      "                (((t5,t4),t3),t2,t1);\n",
      "                ((t5,(t4,t3)),t2,t1);\"\"\"\n",
      "tree_list = taxa_trees.split()\n",
      "taxa_trees = []\n",
      "for t in tree_list:\n",
      "    tree = dendropy.Tree.get_from_string(t, schema=\"newick\")\n",
      "    tree.is_rooted = True\n",
      "    for edge in tree.get_edge_set():\n",
      "        edge.length = 1.0\n",
      "    for taxa in tree.taxon_set:\n",
      "        taxa.label = taxa.label.upper()\n",
      "    taxa_trees.append(tree)\n",
      "for t in taxa_trees:\n",
      "    print t.as_newick_string()\n",
      "print maria_tree.as_newick_string()\n",
      "print maria_tree.as_ascii_plot()\n",
      "print maria_df"
     ],
     "language": "python",
     "metadata": {},
     "outputs": [],
     "prompt_number": ""
    },
    {
     "cell_type": "code",
     "collapsed": false,
     "input": [
      "maria_df2 = pd.read_excel(\"SimulData_mcr_cf.xlsx\", \"Sheet1\")\n",
      "maria_df2 = maria_df2.fillna(0)\n",
      "maria_df2.index = pd.Index([\"T%d\" % x for x in xrange(1,len(maria_df2)+1)])\n",
      "maria_df2\n",
      "maria_df2_1 = maria_df2[[\"S0003\",\"S0004\",\"S0006\",\"S0015\"]].T\n",
      "maria_df2_2 = maria_df2[[\"S0003.1\",\"S0004.1\",\"S0006.1\",\"S0015.1\"]].T"
     ],
     "language": "python",
     "metadata": {},
     "outputs": [],
     "prompt_number": ""
    },
    {
     "cell_type": "code",
     "collapsed": false,
     "input": [
      "maria_data2 = np.array(maria_df2_1)\n",
      "maria_names2 = np.array(maria_df2_1.index)\n",
      "maria_data3 = np.array(maria_df2_2)\n",
      "maria_names3 = np.array(maria_df2_2.index)\n",
      "maria_newick2 = \"((S0003:%f,S0004:%f):%f,(S0006:%f,S0015:%f):%f)\" % (1.0,1.0,1.0,1.0,1.0,1.0)\n",
      "maria_tree2 = dendropy.Tree.get_from_string(maria_newick2, schema=\"newick\")"
     ],
     "language": "python",
     "metadata": {},
     "outputs": [],
     "prompt_number": ""
    },
    {
     "cell_type": "code",
     "collapsed": false,
     "input": [
      "def setup_R():\n",
      "    r = robjects.r\n",
      "    r(\"\"\"\n",
      "        library(ape)\n",
      "        library(vegan)\n",
      "        get_valid_matrix = function(cols, model) {\n",
      "            found = 0\n",
      "            while (found < cols) {\n",
      "                root = sample(nrow(model))[1]\n",
      "                temp = rTraitDisc(tree, model=model, states=1:nrow(model), root.value=root)\n",
      "                temp = as.matrix(temp)\n",
      "                if (min(temp) < max(temp)) {\n",
      "                    if (found == 0) {\n",
      "                        m = temp\n",
      "                        roots = c(root)\n",
      "                    } else {\n",
      "                        m = cbind(m, temp)\n",
      "                        roots = c(roots, root)\n",
      "                    }\n",
      "                    found = found + 1\n",
      "                }\n",
      "            }\n",
      "        return(list(m, roots))\n",
      "        }\n",
      "\n",
      "        get_er_model = function(num_states, rate) {\n",
      "            mat = matrix(rep(rate, num_states**2), num_states)\n",
      "            mat\n",
      "        }\n",
      "\n",
      "        gapweight = function(x, min, max, states) {\n",
      "            return(round(((x-min)*(states-1))/(max-min)))\n",
      "        }\n",
      "    \"\"\")\n",
      "setup_R()"
     ],
     "language": "python",
     "metadata": {},
     "outputs": [],
     "prompt_number": ""
    },
    {
     "cell_type": "code",
     "collapsed": false,
     "input": [
      "r = robjects.r\n",
      "sample_tree = app.create_tree(8, \"S\")\n",
      "sample_tree_fixed = sim.create_uniform_brlen_tree(sample_tree, 0.5)\n",
      "tree=r(\"tree=read.tree(text='%s;')\" % sample_tree.as_newick_string())"
     ],
     "language": "python",
     "metadata": {},
     "outputs": [],
     "prompt_number": ""
    },
    {
     "cell_type": "code",
     "collapsed": false,
     "input": [
      "print sample_tree.as_newick_string()\n",
      "print sample_tree_fixed.as_newick_string()\n",
      "print sample_tree.as_ascii_plot()"
     ],
     "language": "python",
     "metadata": {},
     "outputs": [],
     "prompt_number": ""
    },
    {
     "cell_type": "code",
     "collapsed": false,
     "input": [
      "def create_tree(num_taxa):\n",
      "    t = app.create_tree(num_taxa, \"T\")\n",
      "#     t = sim.create_uniform_brlen_tree(t, 1.0)\n",
      "    return t\n",
      "\n",
      "def get_taxa_trees(num_trees, num_taxa):\n",
      "    jobs = []\n",
      "    pool = Pool(num_trees)\n",
      "    for i in xrange(num_trees):\n",
      "        jobs.append(pool.apply_async(create_tree, (num_taxa,)))\n",
      "    pool.close()\n",
      "    pool.join()\n",
      "    return [x.get() for x in jobs]"
     ],
     "language": "python",
     "metadata": {},
     "outputs": [],
     "prompt_number": ""
    },
    {
     "cell_type": "code",
     "collapsed": false,
     "input": [
      "sim_data = maria_data3\n",
      "num_cols = sim_data.shape[1]\n",
      "num_states = 2\n",
      "rate = 1.0\n",
      "taxa_trees = get_taxa_trees(50,num_cols)\n",
      "for t in taxa_trees[0:5]:\n",
      "    print t.as_newick_string()[0:80]\n"
     ],
     "language": "python",
     "metadata": {},
     "outputs": [],
     "prompt_number": ""
    },
    {
     "cell_type": "code",
     "collapsed": false,
     "input": [
      "r('er_matrix_data = get_valid_matrix(%d, %s)' % (num_cols, \"get_er_model(%d, %f)\" % (num_states, rate)))\n",
      "r('data = er_matrix_data[[1]]')\n",
      "r('data_rows = rownames(data)')\n",
      "r('roots = er_matrix_data[[2]]')\n",
      "r(\"data = t(apply(data, 1, as.numeric))\")\n",
      "res = r(\"data = data-1\")"
     ],
     "language": "python",
     "metadata": {},
     "outputs": [],
     "prompt_number": ""
    },
    {
     "cell_type": "code",
     "collapsed": false,
     "input": [
      "sim_df = pd.DataFrame(np.array(r.data), index=r.data_rows)\n",
      "sim_data = np.array(sim_df)\n",
      "sample_names = np.array(sim_df.index)"
     ],
     "language": "python",
     "metadata": {},
     "outputs": [],
     "prompt_number": ""
    },
    {
     "cell_type": "code",
     "collapsed": false,
     "input": [
      "# abund_pool, gap = sim.create_abund_pool_from_states(r, sim_data)\n",
      "# abund_ranges = abund_pool[0]\n",
      "# abund = app.get_abundance_matrix(gap, abund_ranges, \"gamma\", num_states)"
     ],
     "language": "python",
     "metadata": {},
     "outputs": [],
     "prompt_number": ""
    },
    {
     "cell_type": "code",
     "collapsed": false,
     "input": [
      "unifrac_results = []\n",
      "sim_data = maria_data3\n",
      "sim_names = maria_names3\n",
      "for t in taxa_trees:\n",
      "    print t.as_newick_string()[0:80]\n",
      "#     print app._create_unifrac_dict(sim_data, sim_names, t)\n",
      "    unifrac_results.append((app.calculate_unifrac(sim_data, sim_names, t)))"
     ],
     "language": "python",
     "metadata": {},
     "outputs": [],
     "prompt_number": ""
    },
    {
     "cell_type": "code",
     "collapsed": false,
     "input": [
      "def create_unifrac_df(mat, names):\n",
      "    df = pd.DataFrame(mat, index=names, columns=names)\n",
      "    return df\n",
      "\n",
      "#tree = sample_tree\n",
      "tree = maria_tree2\n",
      "otus = maria_df2_1\n",
      "with open(\"unifrac_test_maria2.txt\",\"w\") as o:\n",
      "    o.write(\"sample tree\\n%s\\n%s\\n\" % (tree.as_newick_string(), tree.as_ascii_plot()))\n",
      "#     o.write(\"otus\\n%s\\n\" % otus.to_string())\n",
      "#     o.write(\"%s\\n\" % ''.join([\"=\"]*80))\n",
      "    \n",
      "    i = 0\n",
      "    for (u_matrix, u_names), (w_matrix, w_names) in unifrac_results:\n",
      "        u_df = create_unifrac_df(u_matrix, u_names)\n",
      "        w_df = create_unifrac_df(u_matrix, u_names)\n",
      "        u_pcoa_tree, u_pcoa_diffs = sim.get_unifrac_pcoa(tree, u_matrix, u_names)\n",
      "        u_cluster_tree, u_cluster_diffs = sim.get_unifrac_cluster(tree, u_matrix, u_names)\n",
      "        u_nj_tree, u_nj_diffs = sim.get_unifrac_nj(tree, u_matrix, u_names)\n",
      "        w_pcoa_tree, w_pcoa_diffs = sim.get_unifrac_pcoa(tree, w_matrix, w_names)\n",
      "        w_cluster_tree, w_cluster_diffs = sim.get_unifrac_cluster(tree, w_matrix, w_names)\n",
      "        w_nj_tree, w_nj_diffs = sim.get_unifrac_nj(tree, w_matrix, w_names)\n",
      "        o.write(\"tree: %d\\n\" % i)\n",
      "#         o.write(\"%s\\n\" % taxa_trees[i].as_newick_string())\n",
      "#         o.write(\"%s\\n\" % taxa_trees[i].as_ascii_plot())\n",
      "        \n",
      "        o.write(\"unweighted\\n%s\\n\\n\" % u_df)\n",
      "        o.write(\"u_pcoa: %s\\nu_cluster: %s\\nu_nj: %s\\n\" % (u_pcoa_diffs, u_cluster_diffs, u_nj_diffs))\n",
      "\n",
      "        o.write(\"pcoa\\n\")\n",
      "        o.write(\"%s\\n\" % u_pcoa_tree.as_newick_string())\n",
      "        o.write(\"%s\\n\" % u_pcoa_tree.as_ascii_plot())\n",
      "        o.write(\"cluster\\n\") \n",
      "        o.write(\"%s\\n\" % u_cluster_tree.as_newick_string())\n",
      "        o.write(\"%s\\n\" % u_cluster_tree.as_ascii_plot())\n",
      "        o.write(\"nj\\n\")\n",
      "        o.write(\"%s\\n\" % u_nj_tree.as_newick_string())\n",
      "        o.write(\"%s\\n\" % u_nj_tree.as_ascii_plot())\n",
      "        \n",
      "        o.write(\"weighted\\n%s\\n\\n\" % w_df)\n",
      "        o.write(\"u_pcoa: %s\\nu_cluster: %s\\nu_nj: %s\\n\" % (u_pcoa_diffs, u_cluster_diffs, u_nj_diffs))\n",
      "\n",
      "        o.write(\"pcoa\\n\")\n",
      "        o.write(\"%s\\n\" % w_pcoa_tree.as_newick_string())\n",
      "        o.write(\"%s\\n\" % w_pcoa_tree.as_ascii_plot())\n",
      "        o.write(\"cluster\\n\") \n",
      "        o.write(\"%s\\n\" % w_cluster_tree.as_newick_string())\n",
      "        o.write(\"%s\\n\" % w_cluster_tree.as_ascii_plot())\n",
      "        o.write(\"nj\\n\")\n",
      "        o.write(\"%s\\n\" % w_nj_tree.as_newick_string())\n",
      "        o.write(\"%s\\n\" % w_nj_tree.as_ascii_plot())\n",
      "\n",
      "        o.write(\"%s\\n\" % ''.join([\"=\"]*80))\n",
      "        i += 1\n",
      "    \n",
      "    # print \"\"\n",
      "\n",
      "    # for (u_matrix, u_names), (w_matris, w_names) in unifrac_results:\n",
      "    #     bc_pcoa_tree, bc_pcoa_diffs = sim.get_bc_pcoa(tree, abund, sample_names)\n",
      "    #     bc_cluster_tree, bc_cluster_diffs = sim.get_bc_cluster(tree, abund, sample_names)\n",
      "    #     bc_nj_tree, bc_nj_diffs = sim.get_bc_nj(tree, abund, sample_names)\n",
      "    #     print bc_pcoa_diffs, bc_cluster_diffs, bc_cluster_diffs"
     ],
     "language": "python",
     "metadata": {},
     "outputs": [],
     "prompt_number": ""
    },
    {
     "cell_type": "code",
     "collapsed": false,
     "input": [
      "!zip unifrac_maria_1.0.zip unifrac_dist.txt unifrac_test.txt matrix.txt"
     ],
     "language": "python",
     "metadata": {},
     "outputs": [],
     "prompt_number": ""
    },
    {
     "cell_type": "code",
     "collapsed": false,
     "input": [
      "FileLinks(\".\", included_suffixes=['.txt', '.zip'])"
     ],
     "language": "python",
     "metadata": {},
     "outputs": [],
     "prompt_number": ""
    },
    {
     "cell_type": "code",
     "collapsed": false,
     "input": [],
     "language": "python",
     "metadata": {},
     "outputs": [],
     "prompt_number": ""
    },
    {
     "cell_type": "code",
     "collapsed": false,
     "input": [],
     "language": "python",
     "metadata": {},
     "outputs": []
    }
   ],
   "metadata": {}
  }
 ]
}