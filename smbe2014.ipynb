{
 "metadata": {
  "name": "",
  "signature": "sha256:5fcafe25142235819aec11a3ad7b7c153369a02c65cc855588f60bd4deef8dc6"
 },
 "nbformat": 3,
 "nbformat_minor": 0,
 "worksheets": [
  {
   "cells": [
    {
     "cell_type": "code",
     "collapsed": false,
     "input": [
      "import os, sys, gzip\n",
      "import numpy as np\n",
      "import scipy as sp\n",
      "import pandas as pd\n",
      "import matplotlib.pyplot as plt\n",
      "from scipy import stats\n",
      "%matplotlib inline\n",
      "from IPython.parallel import Client\n",
      "import brewer2mpl as brew\n",
      "from IPython.display import FileLinks, FileLink\n",
      "%load_ext autoreload\n",
      "%load_ext rmagic\n",
      "sys.path.append(\"/home/cfriedline/data7/src\")\n",
      "os.environ['R_HOME'] = '/home/cfriedline/lib64/R'\n",
      "import rpy2.robjects as robjects\n",
      "import bayesiansimulation.app as app\n",
      "import bayesiansimulation.runsimulation4 as sim\n",
      "import pandas.rpy.common as com"
     ],
     "language": "python",
     "metadata": {},
     "outputs": [],
     "prompt_number": ""
    },
    {
     "cell_type": "code",
     "collapsed": false,
     "input": [
      "root = \"/data7/cfriedline/projects/simruns/\""
     ],
     "language": "python",
     "metadata": {},
     "outputs": [],
     "prompt_number": ""
    },
    {
     "cell_type": "code",
     "collapsed": false,
     "input": [
      "cd $root"
     ],
     "language": "python",
     "metadata": {},
     "outputs": [],
     "prompt_number": ""
    },
    {
     "cell_type": "code",
     "collapsed": false,
     "input": [
      "result_dirs = !find $root -maxdepth 2 | grep results\n",
      "result_dirs = sorted([os.path.abspath(x) for x in result_dirs])"
     ],
     "language": "python",
     "metadata": {},
     "outputs": [],
     "prompt_number": ""
    },
    {
     "cell_type": "code",
     "collapsed": false,
     "input": [
      "outfiles = []\n",
      "for d in result_dirs:\n",
      "    for sub in os.listdir(d):\n",
      "        out = os.path.join(os.path.join(d, sub), \"out\")\n",
      "        outfile = os.path.join(out, \"out.txt\")\n",
      "        if os.path.exists(outfile):\n",
      "            outfiles.append(outfile)\n",
      "        elif os.path.exists(outfile + \".gz\"):\n",
      "            outfiles.append(outfile + \".gz\")\n",
      "outfiles = sorted(outfiles)"
     ],
     "language": "python",
     "metadata": {},
     "outputs": [],
     "prompt_number": ""
    },
    {
     "cell_type": "code",
     "collapsed": false,
     "input": [
      "def create_pkey(series):\n",
      "    return \"%s-%s-%s\" % (series['source'], series['cols'], series['tree_num'])\n",
      "    \n",
      "frames = {}\n",
      "for o in outfiles:\n",
      "    h = open(o)\n",
      "    if o.endswith(\"gz\"):\n",
      "        h.close()\n",
      "        h = gzip.open(o)\n",
      "    d = pd.read_csv(h, sep=\"\\t\", header=0)\n",
      "    if 'tree_num' in d and len(d.tree_num) == 10395: #only keep experiments with 10395 trees\n",
      "        d['source'] = o\n",
      "        d['results'] = os.path.dirname(os.path.dirname(os.path.dirname(o)))\n",
      "        d['pkey'] = d.apply(create_pkey, axis=1)\n",
      "        d.index = d.pkey\n",
      "        frames[o] = d\n",
      "    "
     ],
     "language": "python",
     "metadata": {},
     "outputs": [],
     "prompt_number": ""
    },
    {
     "cell_type": "code",
     "collapsed": false,
     "input": [
      "data = pd.concat(frames.values())"
     ],
     "language": "python",
     "metadata": {},
     "outputs": [],
     "prompt_number": ""
    },
    {
     "cell_type": "code",
     "collapsed": false,
     "input": [
      "cd /home/cfriedline/ipynb/smbe2014"
     ],
     "language": "python",
     "metadata": {},
     "outputs": [],
     "prompt_number": ""
    },
    {
     "cell_type": "code",
     "collapsed": false,
     "input": [
      "title_dict = {'bsim4': 'Equal branch lengths at 0.5',\n",
      "              'bsim5': 'Random branch lengths on U(0.1,1.0)',\n",
      "              'brate': 'Varying rate on equal branch lengths of 0.5',\n",
      "              'rbrate': 'Varying rate on random branch lengths on U(0.1, 1.0)'}\n",
      "colnums = [1000,3000,6000,9000]\n",
      "cols = sorted([x for x in d.columns if 'symm' in x])\n",
      "colormap = plt.cm.rainbow\n",
      "for colnum in colnums:\n",
      "    for k, v in title_dict.items():\n",
      "        pdf = \"%s_%d.pdf\" % (k, colnum)\n",
      "        if k == 'bsim4' or k == 'bsim5':\n",
      "            d = data[(data.source.str.contains(k)) & (data.cols == colnum)]        \n",
      "            d_sub = d[cols]\n",
      "            means = np.mean(d_sub).order()\n",
      "            errors = np.std(d_sub)\n",
      "            colors = [colormap(i) for i in np.linspace(0, 0.9, len(cols))]\n",
      "            plt.figure(figsize=(10,10))\n",
      "            bars = plt.bar(np.arange(len(cols)),\n",
      "                    means, \n",
      "                    color=colors,\n",
      "                    yerr=errors.reindex(means.index))\n",
      "            legend = plt.legend(bars, means.index.tolist(), fancybox=True, shadow=True)\n",
      "            legend.get_frame().set_alpha(1)\n",
      "            plt.title(\"%s (%d OTUs)\" % (title_dict[k], colnum))\n",
      "            plt.ylabel(\"Symmetric distance\")\n",
      "            plt.ylim(0)\n",
      "            plt.gca().axes.get_xaxis().set_visible(False)\n",
      "            plt.savefig(pdf, bbox_inches='tight')\n",
      "            plt.show()\n",
      "        elif 'brate' in k and 'rbrate' not in k:\n",
      "            if colnum == 3000:\n",
      "                ax = plt.subplot(121)\n",
      "                f = ax.get_figure()\n",
      "                f.set_size_inches((20,10))\n",
      "                d = data[(data.source.str.contains('/%s' % k)) & (data.cols == colnum)]\n",
      "                d['rate'] = d.pkey.apply(lambda x: float(x.split(\"/\")[5].split(\"_\")[1]))\n",
      "                means = np.mean(d[cols]).order()\n",
      "                g = d.groupby('rate')\n",
      "                g = g[means.index]\n",
      "                agg = g.agg(np.mean)\n",
      "                colors=[colormap(i) for i in np.linspace(0, 0.9, len(agg.columns))]\n",
      "                gca = plt.gca().set_color_cycle(colors)\n",
      "                ax.plot(agg.index, \n",
      "                        agg, \n",
      "                        linewidth=2)        \n",
      "                ax.legend(agg.columns, bbox_to_anchor=(1.01, 1), fancybox=True, shadow=True)\n",
      "                ax.set_title(title_dict[k])\n",
      "                ax.set_xlim(0.1, 0.9)\n",
      "                ax.set_xlabel(\"Rate\")\n",
      "                ax.set_ylabel(\"Symmetric distance\")\n",
      "                f.savefig(pdf, bbox_inches=\"tight\")\n",
      "        elif \"rbrate\" in k:\n",
      "            if colnum == 3000:\n",
      "                ax = plt.subplot(121)\n",
      "                f = ax.get_figure()\n",
      "                f.set_size_inches((20,10))\n",
      "                d = data[(data.source.str.contains('/%s' % k)) & (data.cols == colnum)]\n",
      "                d['rate'] = d.pkey.apply(lambda x: float(x.split(\"/\")[5].split(\"_\")[1]))\n",
      "                means = np.mean(d[cols]).order()\n",
      "                g = d.groupby('rate')\n",
      "                g = g[means.index]\n",
      "                agg = g.agg(np.mean)\n",
      "                colors=[colormap(i) for i in np.linspace(0, 0.9, len(agg.columns))]\n",
      "                gca = plt.gca().set_color_cycle(colors)\n",
      "                ax.plot(agg.index, \n",
      "                        agg, \n",
      "                        linewidth=2)        \n",
      "                ax.legend(agg.columns, bbox_to_anchor=(1.01, 1), fancybox=True, shadow=True)\n",
      "                ax.set_title(title_dict[k])\n",
      "                ax.set_xlim(0.1, 0.9)\n",
      "                ax.set_xlabel(\"Rate\")\n",
      "                ax.set_ylabel(\"Symmetric distance\")\n",
      "                f.savefig(pdf)\n",
      "            \n",
      "            \n",
      "        "
     ],
     "language": "python",
     "metadata": {},
     "outputs": [],
     "prompt_number": ""
    },
    {
     "cell_type": "code",
     "collapsed": false,
     "input": [
      "FileLinks(\".\", included_suffixes=['.pdf'])"
     ],
     "language": "python",
     "metadata": {},
     "outputs": [],
     "prompt_number": ""
    },
    {
     "cell_type": "code",
     "collapsed": false,
     "input": [
      "sample_tree = app.create_tree(4, \"S\")\n",
      "sample_tree = sim.create_uniform_brlen_tree(sample_tree, 0.5)\n",
      "tree=r(\"tree=read.tree(text='%s;')\" % sample_tree.as_newick_string())"
     ],
     "language": "python",
     "metadata": {},
     "outputs": [],
     "prompt_number": ""
    },
    {
     "cell_type": "code",
     "collapsed": false,
     "input": [
      "print sample_tree.as_ascii_plot()"
     ],
     "language": "python",
     "metadata": {},
     "outputs": [],
     "prompt_number": ""
    },
    {
     "cell_type": "code",
     "collapsed": false,
     "input": [
      "r = robjects.r"
     ],
     "language": "python",
     "metadata": {},
     "outputs": [],
     "prompt_number": ""
    },
    {
     "cell_type": "code",
     "collapsed": false,
     "input": [
      "%%R\n",
      "library(ape)\n",
      "library(vegan)\n",
      "get_valid_matrix = function(cols, model) {\n",
      "    found = 0\n",
      "    while (found < cols) {\n",
      "        root = sample(nrow(model))[1]\n",
      "        temp = rTraitDisc(tree, model=model, states=1:nrow(model), root.value=root)\n",
      "        temp = as.matrix(temp)\n",
      "        if (min(temp) < max(temp)) {\n",
      "            if (found == 0) {\n",
      "                m = temp\n",
      "                roots = c(root)\n",
      "            } else {\n",
      "                m = cbind(m, temp)\n",
      "                roots = c(roots, root)\n",
      "            }\n",
      "            found = found + 1\n",
      "        }\n",
      "    }\n",
      "return(list(m, roots))\n",
      "}\n",
      "\n",
      "get_er_model = function(num_states, rate) {\n",
      "    mat = matrix(rep(rate, num_states**2), num_states)\n",
      "    mat\n",
      "}\n",
      "\n",
      "gapweight = function(x, min, max, states) {\n",
      "    return(round(((x-min)*(states-1))/(max-min)))\n",
      "}\n"
     ],
     "language": "python",
     "metadata": {},
     "outputs": [],
     "prompt_number": ""
    },
    {
     "cell_type": "code",
     "collapsed": false,
     "input": [
      "num_cols = 1000\n",
      "taxa_tree = app.create_tree(num_cols, \"T\")\n",
      "taxa_tree = sim.create_uniform_brlen_tree(taxa_tree, 0.5)\n",
      "num_states = 2\n",
      "rate = 1.0\n",
      "r('er_matrix_data = get_valid_matrix(%d, %s)' % (num_cols, \"get_er_model(%d, %f)\" % (num_states, rate)))\n",
      "r('data = er_matrix_data[[1]]')\n",
      "r('data_rows = rownames(data)')\n",
      "r('roots = er_matrix_data[[2]]')\n",
      "r(\"data = t(apply(data, 1, as.numeric))\")\n",
      "res = r(\"data = data-1\")"
     ],
     "language": "python",
     "metadata": {},
     "outputs": [],
     "prompt_number": ""
    },
    {
     "cell_type": "code",
     "collapsed": false,
     "input": [
      "sim_df = pd.DataFrame(np.array(r.data), index=r.data_rows)"
     ],
     "language": "python",
     "metadata": {},
     "outputs": [],
     "prompt_number": ""
    },
    {
     "cell_type": "code",
     "collapsed": false,
     "input": [
      "sim_data = np.array(sim_df)\n",
      "sample_names = np.array(sim_df.index)"
     ],
     "language": "python",
     "metadata": {},
     "outputs": [],
     "prompt_number": ""
    },
    {
     "cell_type": "code",
     "collapsed": false,
     "input": [
      "abund_pool, gap = sim.create_abund_pool_from_states(r, sim_data)\n",
      "abund_ranges = abund_pool[0]"
     ],
     "language": "python",
     "metadata": {},
     "outputs": [],
     "prompt_number": ""
    },
    {
     "cell_type": "code",
     "collapsed": false,
     "input": [
      "abund = app.get_abundance_matrix(gap, abund_ranges, \"gamma\", num_states)"
     ],
     "language": "python",
     "metadata": {},
     "outputs": [],
     "prompt_number": ""
    },
    {
     "cell_type": "code",
     "collapsed": false,
     "input": [
      "(u_matrix, u_names), (w_matrix, w_names) = app.calculate_unifrac(abund, sample_names, taxa_tree)"
     ],
     "language": "python",
     "metadata": {},
     "outputs": [],
     "prompt_number": ""
    },
    {
     "cell_type": "code",
     "collapsed": false,
     "input": [
      "tree = sample_tree\n",
      "u_pcoa_tree, u_pcoa_diffs = sim.get_unifrac_pcoa(tree, u_matrix, u_names)\n",
      "u_cluster_tree, u_cluster_diffs = sim.get_unifrac_cluster(tree, u_matrix, u_names)\n",
      "u_nj_tree, u_nj_diffs = sim.get_unifrac_nj(tree, u_matrix, u_names)\n",
      "w_pcoa_tree, w_pcoa_diffs = sim.get_unifrac_pcoa(tree, w_matrix, w_names)\n",
      "w_cluster_tree, w_cluster_diffs = sim.get_unifrac_cluster(tree, w_matrix, w_names)\n",
      "w_nj_tree, w_nj_diffs = sim.get_unifrac_nj(tree, w_matrix, w_names)\n",
      "bc_pcoa_tree, bc_pcoa_diffs = sim.get_bc_pcoa(tree, abund, sample_names)\n",
      "bc_cluster_tree, bc_cluster_diffs = sim.get_bc_cluster(tree, abund, sample_names)\n",
      "bc_nj_tree, bc_nj_diffs = sim.get_bc_nj(tree, abund, sample_names)"
     ],
     "language": "python",
     "metadata": {},
     "outputs": [],
     "prompt_number": ""
    },
    {
     "cell_type": "code",
     "collapsed": false,
     "input": [],
     "language": "python",
     "metadata": {},
     "outputs": [],
     "prompt_number": ""
    },
    {
     "cell_type": "code",
     "collapsed": false,
     "input": [],
     "language": "python",
     "metadata": {},
     "outputs": []
    }
   ],
   "metadata": {}
  }
 ]
}